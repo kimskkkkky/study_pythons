{
  "nbformat": 4,
  "nbformat_minor": 0,
  "metadata": {
    "colab": {
      "provenance": [],
      "authorship_tag": "ABX9TyNhLXtNI5hsuTDBiAIyqYvq",
      "include_colab_link": true
    },
    "kernelspec": {
      "name": "python3",
      "display_name": "Python 3"
    },
    "language_info": {
      "name": "python"
    }
  },
  "cells": [
    {
      "cell_type": "markdown",
      "metadata": {
        "id": "view-in-github",
        "colab_type": "text"
      },
      "source": [
        "<a href=\"https://colab.research.google.com/github/kimskkkkky/toy_pythons/blob/main/Whiles_SKY.ipynb\" target=\"_parent\"><img src=\"https://colab.research.google.com/assets/colab-badge.svg\" alt=\"Open In Colab\"/></a>"
      ]
    },
    {
      "cell_type": "code",
      "execution_count": 13,
      "metadata": {
        "id": "_z3URzLSXNgB"
      },
      "outputs": [],
      "source": [
        "first = 1"
      ]
    },
    {
      "cell_type": "code",
      "source": [
        "while first < 4 :\n",
        "  print(first)\n",
        "  print(\"in whiling\")\n",
        "  first = first+1\n",
        "print(\"end\")"
      ],
      "metadata": {
        "colab": {
          "base_uri": "https://localhost:8080/"
        },
        "id": "FfCeVHUtXx4j",
        "outputId": "aa35119d-821d-4eb6-a19f-94606d0d62d0"
      },
      "execution_count": 14,
      "outputs": [
        {
          "output_type": "stream",
          "name": "stdout",
          "text": [
            "1\n",
            "in whiling\n",
            "2\n",
            "in whiling\n",
            "3\n",
            "in whiling\n",
            "end\n"
          ]
        }
      ]
    },
    {
      "cell_type": "code",
      "source": [
        "count = 1"
      ],
      "metadata": {
        "id": "RVUAV3R3iLgh"
      },
      "execution_count": 22,
      "outputs": []
    },
    {
      "cell_type": "code",
      "source": [
        "while count <= 5 :\n",
        "  print(count)\n",
        "  count = count+1\n",
        "print(\"end\")"
      ],
      "metadata": {
        "colab": {
          "base_uri": "https://localhost:8080/"
        },
        "id": "5N5XfzSaiXTw",
        "outputId": "86da119b-93c6-45c9-8ae0-cf7e75c6ae7b"
      },
      "execution_count": 23,
      "outputs": [
        {
          "output_type": "stream",
          "name": "stdout",
          "text": [
            "1\n",
            "2\n",
            "3\n",
            "4\n",
            "5\n",
            "end\n"
          ]
        }
      ]
    }
  ]
}