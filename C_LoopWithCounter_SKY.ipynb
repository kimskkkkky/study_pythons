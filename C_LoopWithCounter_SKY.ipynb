{
  "nbformat": 4,
  "nbformat_minor": 0,
  "metadata": {
    "colab": {
      "provenance": [],
      "authorship_tag": "ABX9TyOoS+0qdAfuC3RLsRVnMaa1",
      "include_colab_link": true
    },
    "kernelspec": {
      "name": "python3",
      "display_name": "Python 3"
    },
    "language_info": {
      "name": "python"
    }
  },
  "cells": [
    {
      "cell_type": "markdown",
      "metadata": {
        "id": "view-in-github",
        "colab_type": "text"
      },
      "source": [
        "<a href=\"https://colab.research.google.com/github/kimskkkkky/toy_pythons/blob/main/C_LoopWithCounter_SKY.ipynb\" target=\"_parent\"><img src=\"https://colab.research.google.com/assets/colab-badge.svg\" alt=\"Open In Colab\"/></a>"
      ]
    },
    {
      "cell_type": "markdown",
      "source": [
        "count = 변수다.\n",
        "1부터 5까지 1씩 증가하는 숫자 찍어내기"
      ],
      "metadata": {
        "id": "3M6gNhtTuSH3"
      }
    },
    {
      "cell_type": "code",
      "execution_count": 3,
      "metadata": {
        "id": "mY0RWc4FuIE7"
      },
      "outputs": [],
      "source": [
        "count = 1"
      ]
    },
    {
      "cell_type": "code",
      "source": [
        "while count <= 5 :\n",
        "  print(count)\n",
        "  count = count+1\n",
        "print(\"end\")"
      ],
      "metadata": {
        "colab": {
          "base_uri": "https://localhost:8080/"
        },
        "id": "ynYczECiuQL3",
        "outputId": "14d42795-9e1d-4900-991f-f5500036f105"
      },
      "execution_count": 4,
      "outputs": [
        {
          "output_type": "stream",
          "name": "stdout",
          "text": [
            "1\n",
            "2\n",
            "3\n",
            "4\n",
            "5\n",
            "end\n"
          ]
        }
      ]
    }
  ]
}